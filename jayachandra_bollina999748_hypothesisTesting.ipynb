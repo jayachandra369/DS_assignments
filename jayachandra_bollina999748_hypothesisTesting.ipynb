{
  "nbformat": 4,
  "nbformat_minor": 0,
  "metadata": {
    "colab": {
      "provenance": []
    },
    "kernelspec": {
      "name": "python3",
      "display_name": "Python 3"
    },
    "language_info": {
      "name": "python"
    }
  },
  "cells": [
    {
      "cell_type": "markdown",
      "source": [
        "#Hypothesis Testing\n",
        "\n",
        "##Background:\n",
        "Bombay hospitality Ltd. operates a franchise model for producing exotic Norwegian dinners throughout New England. The operating cost for a franchise in a week (W) is given by the equation W = $1,000 + $5X, where X represents the number of units produced in a week. Recent feedback from restaurant owners suggests that this cost model may no longer be accurate, as their observed weekly operating costs are higher.\n",
        "\n",
        "##Objective:\n",
        "To investigate the restaurant owners' claim about the increase in weekly operating costs using hypothesis testing.\n",
        "\n",
        "##Data Provided:\n",
        "The theoretical weekly operating cost model: W = $1,000 + $5X\n",
        "\n",
        "Sample of 25 restaurants with a mean weekly cost of Rs. 3,050\n",
        "\n",
        "Number of units produced in a week (X) follows a normal distribution with a mean (μ) of 600 units and a standard deviation (σ) of 25 units\n",
        "\n",
        "\n"
      ],
      "metadata": {
        "id": "jifV8np_jYmp"
      }
    },
    {
      "cell_type": "markdown",
      "source": [
        "# Stating Hypothesis Statement\n",
        "\n",
        "H_0 (Null Hypothesis) : mu = 1000 + 5 (600) = 4000\n",
        "\n",
        "H_1 (Alternate Hypothesis : mu > 4000\n"
      ],
      "metadata": {
        "id": "JorzIAPvlZck"
      }
    },
    {
      "cell_type": "markdown",
      "source": [
        "#Finding T statistic"
      ],
      "metadata": {
        "id": "SyRraFx-oYA4"
      }
    },
    {
      "cell_type": "code",
      "execution_count": 3,
      "metadata": {
        "id": "K9HxjvKqfH9N",
        "colab": {
          "base_uri": "https://localhost:8080/"
        },
        "outputId": "b970995b-281b-4fe3-ae2d-5c1bdf1c21b5"
      },
      "outputs": [
        {
          "output_type": "execute_result",
          "data": {
            "text/plain": [
              "-38.0"
            ]
          },
          "metadata": {},
          "execution_count": 3
        }
      ],
      "source": [
        "# finding t_stat\n",
        "import numpy as np\n",
        "x_bar = 3050 # given\n",
        "mu = 4000 # W for 600 units\n",
        "s = 5*25  # given\n",
        "n = 25\n",
        "t_stat = (x_bar - mu)/(s/np.sqrt(n))\n",
        "t_stat"
      ]
    },
    {
      "cell_type": "markdown",
      "source": [
        "#Determining Critical Value\n",
        "\n",
        "we need to find z - critical value for one tailed test (as we are intersted in looking for cost to be higher or not) at alpha = 0.05."
      ],
      "metadata": {
        "id": "3tjqhmnvofz6"
      }
    },
    {
      "cell_type": "code",
      "source": [
        "# for larger sample z = t\n",
        "# finding z critical\n",
        "import scipy.stats as stats\n",
        "stats.norm.ppf(0.95)"
      ],
      "metadata": {
        "colab": {
          "base_uri": "https://localhost:8080/"
        },
        "id": "yxFzNWIwoj1m",
        "outputId": "6326ddca-386b-474e-b770-0cbbac81afc3"
      },
      "execution_count": 4,
      "outputs": [
        {
          "output_type": "execute_result",
          "data": {
            "text/plain": [
              "1.6448536269514722"
            ]
          },
          "metadata": {},
          "execution_count": 4
        }
      ]
    },
    {
      "cell_type": "markdown",
      "source": [
        "#Making decision\n",
        "\n",
        "As mod of -38 (t_stat) is higher than t_critical (= z_critical for larger n), we reject null hypothesis."
      ],
      "metadata": {
        "id": "b-rhxEJ0qD3B"
      }
    },
    {
      "cell_type": "markdown",
      "source": [
        "#Conclusion\n",
        "\n",
        "As we reject null hypothesis, we can strongly say that this model is no longer accurate as owners suggest. But strong negative t_stat says that sample mean is much lower than the mean given by model, which is contradictory to statement given by owners."
      ],
      "metadata": {
        "id": "v1vyoEcrqjbd"
      }
    },
    {
      "cell_type": "code",
      "source": [],
      "metadata": {
        "id": "JtWvx2Gstygs"
      },
      "execution_count": null,
      "outputs": []
    },
    {
      "cell_type": "code",
      "source": [],
      "metadata": {
        "id": "fdbt-HpftyTm"
      },
      "execution_count": null,
      "outputs": []
    },
    {
      "cell_type": "markdown",
      "source": [
        "#ChiSquare Test\n",
        "##Background:\n",
        "Mizzare Corporation has collected data on customer satisfaction levels for two types of smart home devices: Smart Thermostats and Smart Lights. They want to determine if there's a significant association between the type of device purchased and the customer's satisfaction level.\n",
        "##Data Provided:\n",
        "The data is summarized in a contingency table showing the counts of customers in each satisfaction level for both types of devices:\n",
        "<table>\n",
        "  <tr>\n",
        "    <th>Satisfaction</th>\n",
        "    <th>Smart Thermostat</th>\n",
        "    <th>Smart Light</th>\n",
        "    <th>Total</th>\n",
        "  </tr>\n",
        "  <tr>\n",
        "    <td>Very Satisfied</td>\n",
        "    <td>50</td>\n",
        "    <td>70</td>\n",
        "    <td>120</td>\n",
        "  </tr>\n",
        "  <tr>\n",
        "    <td>Satisfied</td>\n",
        "    <td>80</td>\n",
        "    <td>100</td>\n",
        "    <td>180</td>\n",
        "  </tr><tr>\n",
        "    <td>Neutral</td>\n",
        "    <td>60</td>\n",
        "    <td>90</td>\n",
        "    <td>150</td>\n",
        "  </tr><tr>\n",
        "    <td>Unsatisfied</td>\n",
        "    <td>30</td>\n",
        "    <td>50</td>\n",
        "    <td>80</td>\n",
        "  </tr><tr>\n",
        "    <td>Very unatisfied</td>\n",
        "    <td>20</td>\n",
        "    <td>50</td>\n",
        "    <td>70</td>\n",
        "  </tr>\n",
        "</table>\n",
        "\n",
        "##Objective:\n",
        "To use the Chi-Square test for independence to determine if there's a significant association between the type of smart home device purchased (Smart Thermostats vs. Smart Lights) and the customer satisfaction level."
      ],
      "metadata": {
        "id": "zamj-02Ftzds"
      }
    },
    {
      "cell_type": "markdown",
      "source": [
        "#Stating Hypothesis Statement\n",
        "\n",
        "Null : No association between device type and satisfaction.\n",
        "\n",
        "Alternate : There is an association\n"
      ],
      "metadata": {
        "id": "z1kyxRRkwEfi"
      }
    },
    {
      "cell_type": "markdown",
      "source": [
        "#Computing chiSquare statistic"
      ],
      "metadata": {
        "id": "S21tUGkwxiMY"
      }
    },
    {
      "cell_type": "code",
      "source": [
        "# compute results\n",
        "obs = [[50,70],[80,100],[60,90],[30,50],[20,50]]\n",
        "chi2, p, dof, expected = stats.chi2_contingency(obs)\n",
        "print(chi2)\n",
        "print(p)\n",
        "print(dof)\n",
        "print(expected)"
      ],
      "metadata": {
        "colab": {
          "base_uri": "https://localhost:8080/"
        },
        "id": "8EhPmxoywn9f",
        "outputId": "c2b815d8-3e44-4e4d-f3fc-81921e2962f3"
      },
      "execution_count": 7,
      "outputs": [
        {
          "output_type": "stream",
          "name": "stdout",
          "text": [
            "5.638227513227513\n",
            "0.22784371130697179\n",
            "4\n",
            "[[ 48.  72.]\n",
            " [ 72. 108.]\n",
            " [ 60.  90.]\n",
            " [ 32.  48.]\n",
            " [ 28.  42.]]\n"
          ]
        }
      ]
    },
    {
      "cell_type": "markdown",
      "source": [
        "#Finding critical value"
      ],
      "metadata": {
        "id": "_KQh-dBoyonV"
      }
    },
    {
      "cell_type": "code",
      "source": [
        "# finding critical value\n",
        "stats.chi2.ppf(0.95,4)"
      ],
      "metadata": {
        "colab": {
          "base_uri": "https://localhost:8080/"
        },
        "id": "s0A5yxMby0Tt",
        "outputId": "27bbedf8-c1ac-47c9-87a0-3ae1772f67ad"
      },
      "execution_count": 8,
      "outputs": [
        {
          "output_type": "execute_result",
          "data": {
            "text/plain": [
              "9.487729036781154"
            ]
          },
          "metadata": {},
          "execution_count": 8
        }
      ]
    },
    {
      "cell_type": "markdown",
      "source": [
        "chi2_stat < chi2_critical, Fail to reject null hypothesis. No evidence to show device type and its association with satisfaction."
      ],
      "metadata": {
        "id": "kWhYpQJZzAB4"
      }
    }
  ]
}