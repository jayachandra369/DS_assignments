{
  "nbformat": 4,
  "nbformat_minor": 0,
  "metadata": {
    "colab": {
      "provenance": []
    },
    "kernelspec": {
      "name": "python3",
      "display_name": "Python 3"
    },
    "language_info": {
      "name": "python"
    }
  },
  "cells": [
    {
      "cell_type": "markdown",
      "source": [
        "1. Write a Python program that checks whether a given number is prime or not. A prime number is a natural number greater than 1 that has no positive divisors other than 1 and itself."
      ],
      "metadata": {
        "id": "LvYZ6Ks-HIkr"
      }
    },
    {
      "cell_type": "code",
      "source": [
        "# taking random variable as input\n",
        "import random\n",
        "num = random.randint(1,1000000)\n",
        "import math\n",
        "\n",
        "#edge case for num <= 1\n",
        "if num <= 1:\n",
        "    print(f\"{num} is not a prime.\")\n",
        "else:\n",
        "  # we divide given num from 2 to sqrt(num)\n",
        "  for i in range(2,int(math.sqrt(num))+1):\n",
        "    # if there exists its divisor then not prime else prime\n",
        "    if num % i == 0:\n",
        "      print(f\"{num} is not a prime.\")\n",
        "      break\n",
        "  else:\n",
        "    print(f\"{num} is a prime.\")\n",
        "\n"
      ],
      "metadata": {
        "colab": {
          "base_uri": "https://localhost:8080/"
        },
        "id": "p3OLh15LHVU-",
        "outputId": "e28b6a04-c258-4643-927a-ed30a92af4fd"
      },
      "execution_count": 24,
      "outputs": [
        {
          "output_type": "stream",
          "name": "stdout",
          "text": [
            "192611 is a prime.\n"
          ]
        }
      ]
    },
    {
      "cell_type": "markdown",
      "source": [
        "2.Develop a Python program that generates two random numbers and asks the user to enter the product of these numbers. The program should then check if the user's answer is correct and display an appropriate message."
      ],
      "metadata": {
        "id": "-bbSP37aSnMx"
      }
    },
    {
      "cell_type": "code",
      "source": [
        "import random\n",
        "num1 = random.randint(1,100)\n",
        "num2 = random.randint(1,100)\n",
        "\n",
        "product = int(input(f\"Enter the product of {num1} and {num2}: \"))\n",
        "if product == num1 * num2:\n",
        "  print(\"Correct!!!\")\n",
        "else:\n",
        "  print(f\"Incorrect!, actual product is {num1*num2}\")"
      ],
      "metadata": {
        "colab": {
          "base_uri": "https://localhost:8080/"
        },
        "id": "KruzthsyTKST",
        "outputId": "720ac743-f08d-4820-e29d-ee83e13b3979"
      },
      "execution_count": 23,
      "outputs": [
        {
          "output_type": "stream",
          "name": "stdout",
          "text": [
            "Enter the product of 64 and 18: 1050\n",
            "Incorrect!, actual product is 1152\n"
          ]
        }
      ]
    },
    {
      "cell_type": "markdown",
      "source": [
        "3.Create a Python script that prints the squares of all even or odd numbers within the range of 100 to 200. Choose either even or odd numbers and document your choice in the code."
      ],
      "metadata": {
        "id": "-9aqwnbZULEK"
      }
    },
    {
      "cell_type": "code",
      "source": [
        "for i in range(100,201):\n",
        "  # check for even numbers\n",
        "  if i % 2 == 0:\n",
        "    print(f\"Square of {i} is {i**2}\")"
      ],
      "metadata": {
        "colab": {
          "base_uri": "https://localhost:8080/"
        },
        "collapsed": true,
        "id": "138VGuL3URyW",
        "outputId": "9479699c-c53b-4441-e69e-b6f67ea1a337"
      },
      "execution_count": 26,
      "outputs": [
        {
          "output_type": "stream",
          "name": "stdout",
          "text": [
            "Square of 100 is 10000\n",
            "Square of 102 is 10404\n",
            "Square of 104 is 10816\n",
            "Square of 106 is 11236\n",
            "Square of 108 is 11664\n",
            "Square of 110 is 12100\n",
            "Square of 112 is 12544\n",
            "Square of 114 is 12996\n",
            "Square of 116 is 13456\n",
            "Square of 118 is 13924\n",
            "Square of 120 is 14400\n",
            "Square of 122 is 14884\n",
            "Square of 124 is 15376\n",
            "Square of 126 is 15876\n",
            "Square of 128 is 16384\n",
            "Square of 130 is 16900\n",
            "Square of 132 is 17424\n",
            "Square of 134 is 17956\n",
            "Square of 136 is 18496\n",
            "Square of 138 is 19044\n",
            "Square of 140 is 19600\n",
            "Square of 142 is 20164\n",
            "Square of 144 is 20736\n",
            "Square of 146 is 21316\n",
            "Square of 148 is 21904\n",
            "Square of 150 is 22500\n",
            "Square of 152 is 23104\n",
            "Square of 154 is 23716\n",
            "Square of 156 is 24336\n",
            "Square of 158 is 24964\n",
            "Square of 160 is 25600\n",
            "Square of 162 is 26244\n",
            "Square of 164 is 26896\n",
            "Square of 166 is 27556\n",
            "Square of 168 is 28224\n",
            "Square of 170 is 28900\n",
            "Square of 172 is 29584\n",
            "Square of 174 is 30276\n",
            "Square of 176 is 30976\n",
            "Square of 178 is 31684\n",
            "Square of 180 is 32400\n",
            "Square of 182 is 33124\n",
            "Square of 184 is 33856\n",
            "Square of 186 is 34596\n",
            "Square of 188 is 35344\n",
            "Square of 190 is 36100\n",
            "Square of 192 is 36864\n",
            "Square of 194 is 37636\n",
            "Square of 196 is 38416\n",
            "Square of 198 is 39204\n",
            "Square of 200 is 40000\n"
          ]
        }
      ]
    },
    {
      "cell_type": "markdown",
      "source": [
        "4.Write a program to count the number of words in a given text."
      ],
      "metadata": {
        "id": "Bw8-6G9BVX1h"
      }
    },
    {
      "cell_type": "code",
      "source": [
        "# Taking a paragraph\n",
        "s = str(input(\"Enter a paragrah to count the words: \"))\n",
        "\n",
        "# convert entire sentence to lower case\n",
        "s = s.lower()\n",
        "\n",
        "# replacing special symbols with spaces\n",
        "for i in ['!',',','.','?','%',':','-']:\n",
        "  s = s.replace(i,' ')\n",
        "\n",
        "# splitting sentence to words\n",
        "words = s.split(' ')\n",
        "\n",
        "# dict to maintain frequencies\n",
        "freq = {}\n",
        "\n",
        "# counting frequencies\n",
        "for word in words:\n",
        "  # avoiding spaces\n",
        "  if word:\n",
        "    # already in dictionary\n",
        "    if word in freq:\n",
        "      freq[word] += 1\n",
        "    # initialise in dictionary\n",
        "    else:\n",
        "      freq[word] = 1\n",
        "\n",
        "# printing frequencies\n",
        "for word in freq:\n",
        "  print(f\"{word} : {freq[word]}\")"
      ],
      "metadata": {
        "colab": {
          "base_uri": "https://localhost:8080/"
        },
        "id": "-mOoAsfdV4Hc",
        "outputId": "62bf4a08-4816-4e20-9b04-6c98a0df9b32"
      },
      "execution_count": 31,
      "outputs": [
        {
          "output_type": "stream",
          "name": "stdout",
          "text": [
            "Enter a paragrah to count the words: This is a sample text. This text will be used to demonstrate the word counter.\n",
            "this : 2\n",
            "is : 1\n",
            "a : 1\n",
            "sample : 1\n",
            "text : 2\n",
            "will : 1\n",
            "be : 1\n",
            "used : 1\n",
            "to : 1\n",
            "demonstrate : 1\n",
            "the : 1\n",
            "word : 1\n",
            "counter : 1\n"
          ]
        }
      ]
    },
    {
      "cell_type": "markdown",
      "source": [
        "5.Write a Python function called is_palindrome that takes a string as input and returns True if the string is a palindrome, and False otherwise. A palindrome is a word, phrase, number, or other sequence of characters that reads the same forward and backward, ignoring spaces, punctuation, and capitalization."
      ],
      "metadata": {
        "id": "zYDCy2Bjb-B2"
      }
    },
    {
      "cell_type": "code",
      "source": [
        "# palindrome function\n",
        "def palindrome(s):\n",
        "  # convert to lower\n",
        "  s = s.lower()\n",
        "\n",
        "  # removing spaces\n",
        "  s = s.replace(' ','')\n",
        "\n",
        "  # removing punctuations\n",
        "  for i in ['!',',','.','?','%',':','-']:\n",
        "    s = s.replace(i,'')\n",
        "\n",
        "  # checking for palindrome\n",
        "  if s == s[::-1]:\n",
        "    return True\n",
        "  else:\n",
        "    return False\n",
        "\n",
        "x = input(\"Enter a string to check for palindrome: \")\n",
        "print(palindrome(x))"
      ],
      "metadata": {
        "colab": {
          "base_uri": "https://localhost:8080/"
        },
        "id": "4qcKbVV6aXfo",
        "outputId": "92dda782-15df-4547-d4f1-4791badf596a"
      },
      "execution_count": 38,
      "outputs": [
        {
          "output_type": "stream",
          "name": "stdout",
          "text": [
            "Enter a string to check for palindrome: race car!\n",
            "True\n"
          ]
        }
      ]
    }
  ]
}